{
 "cells": [
  {
   "cell_type": "markdown",
   "id": "592d7c3b",
   "metadata": {},
   "source": [
    "Given: Two DNA strings s1 and s2 of equal length (at most 1 kbp).\n",
    "\n",
    "Return: The transition/transversion ratio R(s1,s2)."
   ]
  },
  {
   "cell_type": "markdown",
   "id": "4ef82bb9",
   "metadata": {},
   "source": [
    ">Rosalind_0209\n",
    "GCAACGCACAACGAAAACCCTTAGGGACTGGATTATTTCGTGATCGTTGTAGTTATTGGA\n",
    "AGTACGGGCATCAACCCAGTT\n",
    ">Rosalind_2200\n",
    "TTATCTGACAAAGAAAGCCGTCAACGGCTGGATAATTTCGCGATCGTGCTGGTTACTGGC\n",
    "GGTACGAGTGTTCCTTTGGGT"
   ]
  },
  {
   "cell_type": "code",
   "execution_count": 29,
   "id": "b13ac99d",
   "metadata": {},
   "outputs": [],
   "source": [
    "#Transition is G->A or A->G purine to purine,or pyrimidine to pyrimidine C->T or T->C\n",
    "#Transversion is a change of A or G to T or C or viceversa (pyrimidine to purine or purine to pyrimidine)\n",
    "#PYR CUT\n",
    "\n",
    "from Bio import SeqIO\n",
    "from Bio.Seq import Seq\n",
    "\n",
    "sequences=open('/Users/danielaquijano/Documents/GitHub/Rosalind-Solutions/Given Sample Data for Exercises/11.txt','r')\n",
    "\n",
    "seq_list=[]\n",
    "\n",
    "for entry in SeqIO.parse(sequences, 'fasta'):\n",
    "    seq_list.append(str(entry.seq))\n",
    "    \n",
    "DNA1=seq_list[0]\n",
    "DNA2=seq_list[1]\n",
    "\n",
    "length=len(DNA1)"
   ]
  },
  {
   "cell_type": "code",
   "execution_count": 30,
   "id": "8d091622",
   "metadata": {},
   "outputs": [],
   "source": [
    "#using counters to keep track of the number of transitions and transversions\n",
    "\n",
    "transitions=[('A','G'),('G','A'),('C','T'),('T','C')]\n",
    "transversions=[('C','A'),('A','C'),('C','G'),('G','C'),('T','A'),('A','T'),('G','T'),('T','G')]\n",
    "\n",
    "\n"
   ]
  },
  {
   "cell_type": "code",
   "execution_count": 31,
   "id": "41ff19f0",
   "metadata": {},
   "outputs": [
    {
     "name": "stdout",
     "output_type": "stream",
     "text": [
      "The sequences differ in 300 bases\n"
     ]
    }
   ],
   "source": [
    "\n",
    "counter=0\n",
    "for i in range(0,len(DNA1)):\n",
    "    if DNA1[i] == DNA2[i]:\n",
    "        counter+=1\n",
    "        continue\n",
    "print(\"The sequences differ in \" + str(length-counter) + ' bases')\n"
   ]
  },
  {
   "cell_type": "code",
   "execution_count": 32,
   "id": "fcb27a7c",
   "metadata": {},
   "outputs": [
    {
     "name": "stdout",
     "output_type": "stream",
     "text": [
      "The number of transitions is: 202\n",
      "The number of transversions is: 98\n",
      "The ratio of transitions to transversions is 2.061224489795918\n"
     ]
    }
   ],
   "source": [
    "trans_count=0\n",
    "transv_count=0\n",
    "\n",
    "for i in range(0,len(DNA1)):\n",
    "    format_char=DNA1[i],DNA2[i]\n",
    "    for element in transitions:\n",
    "        if format_char==element:\n",
    "            trans_count+=1\n",
    "            continue\n",
    "    for element in transversions:\n",
    "        if format_char==element:\n",
    "            transv_count+=1\n",
    "            continue\n",
    "ratio=(trans_count/transv_count)\n",
    "\n",
    "        \n",
    "print('The number of transitions is: '+ str(trans_count) +'\\n'+ 'The number of transversions is: ' +str(transv_count))\n",
    "print('The ratio of transitions to transversions is '+str(ratio))\n",
    "\n"
   ]
  },
  {
   "cell_type": "code",
   "execution_count": null,
   "id": "6fddfbfb",
   "metadata": {},
   "outputs": [],
   "source": []
  }
 ],
 "metadata": {
  "kernelspec": {
   "display_name": "Python 3 (ipykernel)",
   "language": "python",
   "name": "python3"
  },
  "language_info": {
   "codemirror_mode": {
    "name": "ipython",
    "version": 3
   },
   "file_extension": ".py",
   "mimetype": "text/x-python",
   "name": "python",
   "nbconvert_exporter": "python",
   "pygments_lexer": "ipython3",
   "version": "3.8.2"
  }
 },
 "nbformat": 4,
 "nbformat_minor": 5
}
