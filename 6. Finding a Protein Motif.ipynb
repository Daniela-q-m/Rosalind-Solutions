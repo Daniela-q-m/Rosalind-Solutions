{
 "cells": [
  {
   "cell_type": "markdown",
   "id": "d5921451",
   "metadata": {},
   "source": [
    "Given: At most 15 UniProt Protein Database access IDs.\n",
    "\n",
    "Return: For each protein possessing the N-glycosylation motif, output its given access ID followed by a list of locations in the protein string where the motif can be found.\n",
    "\n",
    "Sample Dataset\n",
    "A2Z669\n",
    "B5ZC00\n",
    "P07204_TRBM_HUMAN\n",
    "P20840_SAG1_YEAST\n",
    "Sample Output\n",
    "B5ZC00\n",
    "85 118 142 306 395\n",
    "P07204_TRBM_HUMAN\n",
    "47 115 116 382 409\n",
    "P20840_SAG1_YEAST\n",
    "79 109 135 248 306 348 364 402 485 501 614"
   ]
  },
  {
   "cell_type": "code",
   "execution_count": 12,
   "id": "89c6724f",
   "metadata": {},
   "outputs": [
    {
     "name": "stdout",
     "output_type": "stream",
     "text": [
      "['Q9V730', 'P10761_ZP3_MOUSE', 'P01190_COLI_BOVIN', 'P09791_PARB_TRYBB', 'P22457_FA7_BOVIN', 'A1TJ10', 'Q5WFN0', 'Q3BN23', 'Q9LHF1', 'Q924A4', 'Q5PA87', 'Q181G8']\n"
     ]
    }
   ],
   "source": [
    "from bioservices.uniprot import UniProt\n",
    "from Bio import SeqIO\n",
    "\n",
    "given_ids='Q9V730 P10761_ZP3_MOUSE P01190_COLI_BOVIN P09791_PARB_TRYBB P22457_FA7_BOVIN A1TJ10 Q5WFN0 Q3BN23 Q9LHF1 Q924A4 Q5PA87 Q181G8'\n",
    "\n",
    "new_ids=given_ids.split(' ')\n",
    "\n",
    "print(new_ids)"
   ]
  },
  {
   "cell_type": "code",
   "execution_count": 42,
   "id": "8a6443fd",
   "metadata": {},
   "outputs": [
    {
     "ename": "ValueError",
     "evalue": "too many values to unpack (expected 2)",
     "output_type": "error",
     "traceback": [
      "\u001b[0;31m---------------------------------------------------------------------------\u001b[0m",
      "\u001b[0;31mValueError\u001b[0m                                Traceback (most recent call last)",
      "\u001b[0;32m/var/folders/kz/671nytjx6wbb6qvvfpv7jwt00000gn/T/ipykernel_70957/1960010442.py\u001b[0m in \u001b[0;36m<module>\u001b[0;34m\u001b[0m\n\u001b[1;32m     17\u001b[0m \u001b[0;34m\u001b[0m\u001b[0m\n\u001b[1;32m     18\u001b[0m \u001b[0;31m#Building regular expression:\u001b[0m\u001b[0;34m\u001b[0m\u001b[0;34m\u001b[0m\u001b[0;34m\u001b[0m\u001b[0m\n\u001b[0;32m---> 19\u001b[0;31m \u001b[0;32mfor\u001b[0m \u001b[0mheader\u001b[0m\u001b[0;34m,\u001b[0m \u001b[0msequence\u001b[0m \u001b[0;32min\u001b[0m \u001b[0mfasta_dict\u001b[0m\u001b[0;34m:\u001b[0m\u001b[0;34m\u001b[0m\u001b[0;34m\u001b[0m\u001b[0m\n\u001b[0m\u001b[1;32m     20\u001b[0m     \u001b[0msearch\u001b[0m\u001b[0;34m=\u001b[0m\u001b[0mre\u001b[0m\u001b[0;34m.\u001b[0m\u001b[0mfinditer\u001b[0m\u001b[0;34m(\u001b[0m\u001b[0;34mr'[^P](S|T)[^P]'\u001b[0m\u001b[0;34m,\u001b[0m \u001b[0msequence\u001b[0m\u001b[0;34m)\u001b[0m\u001b[0;34m\u001b[0m\u001b[0;34m\u001b[0m\u001b[0m\n\u001b[1;32m     21\u001b[0m     \u001b[0;32mfor\u001b[0m \u001b[0mmatch\u001b[0m \u001b[0;32min\u001b[0m \u001b[0msearch\u001b[0m\u001b[0;34m:\u001b[0m\u001b[0;34m\u001b[0m\u001b[0;34m\u001b[0m\u001b[0m\n",
      "\u001b[0;31mValueError\u001b[0m: too many values to unpack (expected 2)"
     ]
    }
   ],
   "source": [
    "#Glycosylation motif: N{P}[ST]{P}\n",
    "\n",
    "\n",
    "from bioservices.apps.fasta import FASTA\n",
    "import pandas as pd\n",
    "import re\n",
    "\n",
    "fasta_dict={}\n",
    "match_dict={}\n",
    "\n",
    "f = FASTA()\n",
    "for ID in new_ids:\n",
    "    f.load(ID)\n",
    "    header = f.header     \n",
    "    seq = f.sequence \n",
    "    fasta_dict[header]=seq\n",
    "    \n",
    "    \n",
    "#Building regular expression:\n",
    "for header, sequence in fasta_dict:\n",
    "    search=re.finditer(r'[^P](S|T)[^P]', sequence)\n",
    "    if search:\n",
    "        \n",
    "    \n",
    "    for match in search:\n",
    "        start = match.start()\n",
    "        fix_start=match.start()+1\n",
    "        start_list.append(fix_start)\n",
    "        \n",
    "print(start_list)"
   ]
  },
  {
   "cell_type": "code",
   "execution_count": 41,
   "id": "7de4bfe9",
   "metadata": {},
   "outputs": [],
   "source": [
    "#Glycosylation otif: N{P}[ST]{P}\n",
    "\n",
    "given_fasta=open('/Users/danielaquijano/Documents/GitHub/Rosalind-Solutions/Given Sample Data for Exercises/Given_protein_id.txt','r')\n",
    "\n",
    "    \n",
    "    "
   ]
  },
  {
   "cell_type": "code",
   "execution_count": null,
   "id": "7dd6afa7",
   "metadata": {},
   "outputs": [],
   "source": []
  }
 ],
 "metadata": {
  "kernelspec": {
   "display_name": "Python 3 (ipykernel)",
   "language": "python",
   "name": "python3"
  },
  "language_info": {
   "codemirror_mode": {
    "name": "ipython",
    "version": 3
   },
   "file_extension": ".py",
   "mimetype": "text/x-python",
   "name": "python",
   "nbconvert_exporter": "python",
   "pygments_lexer": "ipython3",
   "version": "3.8.8"
  }
 },
 "nbformat": 4,
 "nbformat_minor": 5
}
