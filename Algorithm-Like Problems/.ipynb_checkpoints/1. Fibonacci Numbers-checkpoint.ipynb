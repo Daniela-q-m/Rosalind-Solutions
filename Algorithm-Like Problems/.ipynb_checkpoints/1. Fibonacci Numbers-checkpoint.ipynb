{
 "cells": [
  {
   "cell_type": "code",
   "execution_count": null,
   "id": "db4726c0",
   "metadata": {},
   "outputs": [],
   "source": [
    "Given: A positive integer n≤25.\n",
    "\n",
    "Return: The value of Fn."
   ]
  },
  {
   "cell_type": "code",
   "execution_count": 12,
   "id": "da1a4745",
   "metadata": {},
   "outputs": [
    {
     "name": "stdout",
     "output_type": "stream",
     "text": [
      "8\n"
     ]
    }
   ],
   "source": [
    "Fib_list=[0,1]\n",
    "for i in range (1,100):\n",
    "    Fib=Fib_list[i]+Fib_list[i-1]\n",
    "    Fib_list.append(Fib)\n",
    "print(Fib_list[6])\n",
    "    "
   ]
  },
  {
   "cell_type": "code",
   "execution_count": null,
   "id": "0dda8783",
   "metadata": {},
   "outputs": [],
   "source": []
  }
 ],
 "metadata": {
  "kernelspec": {
   "display_name": "Python 3 (ipykernel)",
   "language": "python",
   "name": "python3"
  },
  "language_info": {
   "codemirror_mode": {
    "name": "ipython",
    "version": 3
   },
   "file_extension": ".py",
   "mimetype": "text/x-python",
   "name": "python",
   "nbconvert_exporter": "python",
   "pygments_lexer": "ipython3",
   "version": "3.8.8"
  }
 },
 "nbformat": 4,
 "nbformat_minor": 5
}
