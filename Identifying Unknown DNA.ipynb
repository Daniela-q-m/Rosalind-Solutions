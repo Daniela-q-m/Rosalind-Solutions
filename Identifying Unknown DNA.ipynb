{
 "cells": [
  {
   "cell_type": "code",
   "execution_count": null,
   "id": "37b56ee8",
   "metadata": {},
   "outputs": [],
   "source": [
    "#Identifying Unknown DNA Quickly\n",
    "\n",
    "#Given: At most 10 DNA strings in FASTA format (of length at most 1 kbp each).\n",
    "#Return: The ID of the string having the highest GC-content, followed by the GC-content of that string. \n",
    "\n",
    "#Rosalind allows for a default error of 0.001 in all decimal answers\n"
   ]
  },
  {
   "cell_type": "code",
   "execution_count": null,
   "id": "073d0a16",
   "metadata": {},
   "outputs": [],
   "source": [
    "from Bio.SeqUtils import GC\n",
    "from Bio import SeqIO"
   ]
  },
  {
   "cell_type": "code",
   "execution_count": 25,
   "id": "bbb839ac",
   "metadata": {},
   "outputs": [
    {
     "name": "stdout",
     "output_type": "stream",
     "text": [
      "Rosalind_6404\n",
      "Rosalind_5959\n",
      "Rosalind_0808\n"
     ]
    }
   ],
   "source": [
    "given_fasta=open('/Users/danielaquijano/Documents/GitHub/Rosalind-Solutions/Given_fasta.txt','r')\n",
    "\n",
    "gc_content_dict=[]\n",
    "gc_content_list=\n",
    "\n",
    "for record in SeqIO.parse(given_fasta, 'fasta'):\n",
    "    GC_contet_list.append\n",
    "pri"
   ]
  },
  {
   "cell_type": "code",
   "execution_count": 15,
   "id": "a0f55647",
   "metadata": {},
   "outputs": [
    {
     "name": "stdout",
     "output_type": "stream",
     "text": [
      "hi\n"
     ]
    }
   ],
   "source": [
    "print('hi')"
   ]
  },
  {
   "cell_type": "code",
   "execution_count": null,
   "id": "20454c34",
   "metadata": {},
   "outputs": [],
   "source": []
  }
 ],
 "metadata": {
  "kernelspec": {
   "display_name": "Python 3 (ipykernel)",
   "language": "python",
   "name": "python3"
  },
  "language_info": {
   "codemirror_mode": {
    "name": "ipython",
    "version": 3
   },
   "file_extension": ".py",
   "mimetype": "text/x-python",
   "name": "python",
   "nbconvert_exporter": "python",
   "pygments_lexer": "ipython3",
   "version": "3.8.8"
  }
 },
 "nbformat": 4,
 "nbformat_minor": 5
}
