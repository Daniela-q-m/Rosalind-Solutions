{
 "cells": [
  {
   "cell_type": "markdown",
   "id": "8e5607db",
   "metadata": {},
   "source": [
    "Given: A DNA string of length at most 1 kbp in FASTA format.\n",
    "\n",
    "Return: The position and length of every reverse palindrome in the string having length between 4 and 12. You may return these pairs in any order."
   ]
  },
  {
   "cell_type": "code",
   "execution_count": 29,
   "id": "d51a208b",
   "metadata": {},
   "outputs": [
    {
     "name": "stdout",
     "output_type": "stream",
     "text": [
      "TCAATGCATGCGGGTCTATATGCAT\n",
      "ATGCATATAGACCCGCATGCATTGA\n"
     ]
    }
   ],
   "source": [
    "from Bio import SeqIO\n",
    "from Bio.Seq import Seq\n",
    "\n",
    "\n",
    "sequence=open('/Users/danielaquijano/Documents/GitHub/Rosalind-Solutions/Given Sample Data for Exercises/Given_fasta_sequence.txt','r')\n",
    "\n",
    "for entry in SeqIO.parse(sequence, 'fasta'):\n",
    "    seq=(entry.seq)\n",
    "    seq_reverse=seq.reverse_complement()\n",
    "print(seq)\n",
    "print(seq_reverse)\n"
   ]
  },
  {
   "cell_type": "code",
   "execution_count": 33,
   "id": "396fcda6",
   "metadata": {},
   "outputs": [],
   "source": [
    "\n",
    "    "
   ]
  },
  {
   "cell_type": "code",
   "execution_count": null,
   "id": "9de4db75",
   "metadata": {},
   "outputs": [],
   "source": [
    "for i in range (0,len(seq)):\n",
    "    for j in range (i, len(seq)):\n",
    "        string = seq[i:j + 1]                    \n",
    "        backward_string = seq_reverse[i:j]                \n",
    "        if len(string) >= 4 and len(string) <= 12:        \n",
    "            if string == backward_string[::-1]:                \n",
    "                print(i + 1, len(string))"
   ]
  },
  {
   "cell_type": "code",
   "execution_count": null,
   "id": "74d92e68",
   "metadata": {},
   "outputs": [],
   "source": []
  },
  {
   "cell_type": "code",
   "execution_count": null,
   "id": "82fa1035",
   "metadata": {},
   "outputs": [],
   "source": []
  }
 ],
 "metadata": {
  "kernelspec": {
   "display_name": "Python 3 (ipykernel)",
   "language": "python",
   "name": "python3"
  },
  "language_info": {
   "codemirror_mode": {
    "name": "ipython",
    "version": 3
   },
   "file_extension": ".py",
   "mimetype": "text/x-python",
   "name": "python",
   "nbconvert_exporter": "python",
   "pygments_lexer": "ipython3",
   "version": "3.8.8"
  }
 },
 "nbformat": 4,
 "nbformat_minor": 5
}
