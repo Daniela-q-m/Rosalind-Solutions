{
 "cells": [
  {
   "cell_type": "markdown",
   "id": "0d86c4c6",
   "metadata": {},
   "source": [
    "Given: A genus name, followed by two dates in YYYY/M/D format.\n",
    "\n",
    "Return: The number of Nucleotide GenBank entries for the given genus that were published between the dates specified."
   ]
  },
  {
   "cell_type": "markdown",
   "id": "18377aa6",
   "metadata": {},
   "source": [
    "Given:\n",
    "    Volatinia\n",
    "2004/10/02\n",
    "2007/09/04"
   ]
  },
  {
   "cell_type": "code",
   "execution_count": 9,
   "id": "ba5a8c15",
   "metadata": {},
   "outputs": [
    {
     "name": "stdout",
     "output_type": "stream",
     "text": [
      "11\n"
     ]
    }
   ],
   "source": [
    "from Bio import Entrez\n",
    "Entrez.email = \"dq2033@nyu.edu\"\n",
    "query = \"Volatinia\"\n",
    "Date_1 = \"2004/10/02\"\n",
    "Date_2 = \"2007/09/04\"\n",
    "searchTerm = f'({query}[Organism]) AND(\"{Date_1}\"[Publication Date]: \"{Date_2}\"[Publication Date])'\n",
    "\n",
    "handle = Entrez.esearch(db=\"nucleotide\", term=searchTerm)\n",
    "record = Entrez.read(handle)\n",
    "print(record[\"Count\"])"
   ]
  },
  {
   "cell_type": "code",
   "execution_count": null,
   "id": "c39b70ed",
   "metadata": {},
   "outputs": [],
   "source": []
  }
 ],
 "metadata": {
  "kernelspec": {
   "display_name": "Python 3 (ipykernel)",
   "language": "python",
   "name": "python3"
  },
  "language_info": {
   "codemirror_mode": {
    "name": "ipython",
    "version": 3
   },
   "file_extension": ".py",
   "mimetype": "text/x-python",
   "name": "python",
   "nbconvert_exporter": "python",
   "pygments_lexer": "ipython3",
   "version": "3.8.8"
  }
 },
 "nbformat": 4,
 "nbformat_minor": 5
}
