{
 "cells": [
  {
   "cell_type": "markdown",
   "id": "8e002640",
   "metadata": {},
   "source": [
    "Given: A DNA string s of length at most 1 kbp in FASTA format.\n",
    "\n",
    "Return: Every distinct candidate protein string that can be translated from ORFs of s. Strings can be returned in any order."
   ]
  },
  {
   "cell_type": "markdown",
   "id": "f2a2854a",
   "metadata": {},
   "source": [
    "Sample Dataset\n",
    ">Rosalind_99\n",
    "AGCCATGTAGCTAACTCAGGTTACATGGGGATGACCCCGCGACTTGGATTAGAGTCTCTTTTGGAATAAGCCTGAATGATCCGAGTAGCATCTCAG\n",
    "Sample Output\n",
    "MLLGSFRLIPKETLIQVAGSSPCNLS\n",
    "M\n",
    "MGMTPRLGLESLLE\n",
    "MTPRLGLESLLE"
   ]
  },
  {
   "cell_type": "code",
   "execution_count": 3,
   "id": "2d509c7b",
   "metadata": {},
   "outputs": [],
   "source": [
    "#First split string into multiple strings starting with AUG (Met), and ending with stop codon (UAA, UGA, UAG)\n",
    "\n",
    "from Bio.Seq import Seq\n",
    "import re\n",
    "sequence='AGCCATGTAGCTAACTCAGGTTACATGGGGATGACCCCGCGACTTGGATTAGAGTCTCTTTTGGAATAAGCCTGAATGATCCGAGTAGCATCTCAG'\n",
    "\n"
   ]
  },
  {
   "cell_type": "code",
   "execution_count": 10,
   "id": "16cce8ad",
   "metadata": {},
   "outputs": [
    {
     "name": "stdout",
     "output_type": "stream",
     "text": [
      "ATG\n",
      "ATG\n",
      "ATG\n",
      "ATG\n"
     ]
    }
   ],
   "source": [
    "#Use start codon to slice the string into substrings, find the position of the start codon\n",
    "#Find the stop codon within the substrings and slice into reading frame \n",
    "#Use Seq to turn each string into a seq object and translate to protein\n",
    "\n",
    "search=re.finditer((r'ATG'), sequence)\n",
    "\n",
    "for match in search:\n",
    "    print(match.group())\n"
   ]
  },
  {
   "cell_type": "code",
   "execution_count": null,
   "id": "2a19d5f6",
   "metadata": {},
   "outputs": [],
   "source": []
  },
  {
   "cell_type": "code",
   "execution_count": null,
   "id": "fd4c6c6e",
   "metadata": {},
   "outputs": [],
   "source": [
    "\n",
    "    "
   ]
  },
  {
   "cell_type": "code",
   "execution_count": null,
   "id": "12461d47",
   "metadata": {},
   "outputs": [],
   "source": []
  }
 ],
 "metadata": {
  "kernelspec": {
   "display_name": "Python 3 (ipykernel)",
   "language": "python",
   "name": "python3"
  },
  "language_info": {
   "codemirror_mode": {
    "name": "ipython",
    "version": 3
   },
   "file_extension": ".py",
   "mimetype": "text/x-python",
   "name": "python",
   "nbconvert_exporter": "python",
   "pygments_lexer": "ipython3",
   "version": "3.8.8"
  }
 },
 "nbformat": 4,
 "nbformat_minor": 5
}
