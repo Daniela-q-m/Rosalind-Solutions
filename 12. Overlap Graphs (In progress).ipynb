{
 "cells": [
  {
   "cell_type": "markdown",
   "id": "a45755af",
   "metadata": {},
   "source": [
    "Given: A collection of DNA strings in FASTA format having total length at most 10 kbp.\n",
    "\n",
    "Return: The adjacency list corresponding to O3. You may return edges in any order."
   ]
  },
  {
   "cell_type": "code",
   "execution_count": null,
   "id": "a0ce6d1f",
   "metadata": {},
   "outputs": [],
   "source": [
    ">Rosalind_0498\n",
    "AAATAAA\n",
    ">Rosalind_2391\n",
    "AAATTTT\n",
    ">Rosalind_2323\n",
    "TTTTCCC\n",
    ">Rosalind_0442\n",
    "AAATCCC\n",
    ">Rosalind_5013\n",
    "GGGTGGG\n",
    "\n",
    "Sample output\n",
    "Rosalind_0498 Rosalind_2391\n",
    "Rosalind_0498 Rosalind_0442\n",
    "Rosalind_2391 Rosalind_2323"
   ]
  },
  {
   "cell_type": "code",
   "execution_count": 4,
   "id": "c0273c4a",
   "metadata": {},
   "outputs": [
    {
     "name": "stdout",
     "output_type": "stream",
     "text": [
      "[]\n",
      "{}\n"
     ]
    }
   ],
   "source": [
    "#First read in the source file that contains the FASTA sequences\n",
    "from Bio import SeqIO\n",
    "\n",
    "fasta_seqs=open('/Users/danielaquijano/Documents/GitHub/Rosalind-Solutions/Given Sample Data for Exercises/12.txt','r')\n",
    "\n",
    "#making a dictionary to store seq records \n",
    "#List to store gc values then extract the highest one\n",
    "seq_dict={}\n",
    "seq_list=[]\n",
    "\n",
    "#Parse given sequences, build dictionary and list\n",
    "for record in SeqIO.parse(fasta_seqs, 'fasta'):\n",
    "    seq_list.append(record.seq)\n",
    "    seq_dict[record.id]=str(record.seq)\n",
    "    \n",
    "print(seq_list)\n",
    "print(seq_dict)\n",
    "    "
   ]
  },
  {
   "cell_type": "code",
   "execution_count": null,
   "id": "76c20097",
   "metadata": {},
   "outputs": [],
   "source": []
  }
 ],
 "metadata": {
  "kernelspec": {
   "display_name": "Python 3 (ipykernel)",
   "language": "python",
   "name": "python3"
  },
  "language_info": {
   "codemirror_mode": {
    "name": "ipython",
    "version": 3
   },
   "file_extension": ".py",
   "mimetype": "text/x-python",
   "name": "python",
   "nbconvert_exporter": "python",
   "pygments_lexer": "ipython3",
   "version": "3.8.8"
  }
 },
 "nbformat": 4,
 "nbformat_minor": 5
}
