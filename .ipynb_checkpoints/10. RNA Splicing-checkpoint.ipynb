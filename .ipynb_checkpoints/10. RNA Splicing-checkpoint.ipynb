{
 "cells": [
  {
   "cell_type": "markdown",
   "id": "fa40e8b2",
   "metadata": {},
   "source": [
    "Given: A DNA string s (of length at most 1 kbp) and a collection of substrings of s acting as introns. All strings are given in FASTA format.\n",
    "\n",
    "Return: A protein string resulting from transcribing and translating the exons of s. (Note: Only one solution will exist for the dataset provided.)"
   ]
  },
  {
   "cell_type": "markdown",
   "id": "046c8602",
   "metadata": {},
   "source": [
    ">Rosalind_10\n",
    "ATGGTCTACATAGCTGACAAACAGCACGTAGCAATCGGTCGAATCTCGAGAGGCATATGGTCACATGATCGGTCGAGCGTGTTTCAAAGTTTGCGCCTAG\n",
    ">Rosalind_12\n",
    "ATCGGTCGAA\n",
    ">Rosalind_15\n",
    "ATCGGTCGAGCGTGT\n",
    "Sample Output\n",
    "MVYIADKQHVASREAYGHMFKVCA"
   ]
  },
  {
   "cell_type": "code",
   "execution_count": 96,
   "id": "acee47b1",
   "metadata": {},
   "outputs": [
    {
     "name": "stdout",
     "output_type": "stream",
     "text": [
      "ATGAACCAGGGTGAGCACTTTATCCGCGCCAGTTTCGAGACGGCCACACTGCGGGAACCGTTTGGACCGTCTTGCTGGGCTCTCACTTGCGGTGTGTATGGCTTGGGTGGTGTTCACTCGTCTCAGTACTTACCGTGGCTATTCTAGTCACTTCCAAATAGCTGGTGATTCTTGGTGCGGTTCCAGCGGAAGTATCCGTTGCAATTTACTCGCGAATTGGACCGTGTTGACATGTTCTAATCCGTACCAGTGGCAGTGGTGAATGTGAATCCTGTTATCATATCGTCACATGTACGGCACACACTATACGAAGAAGAAAGCGGTAGGGGTCCACCGGGGCTTATTATGTCGTATGTCGGCGCTTAGGAAACCGTTCCCCTATAGGAACGGAACAGACCGTAACGAGTTTGATGAGACAGTCGTGCCTTCGACCGGATCAATTCGACGTATGACCCGTTGGCTAGCCACAGCGCTACTGAGTGCGATCGATCGGAAGTAGCGGAATGCTGCGGCGCTGGAGCCGGCTCGTTCTATATTGTTACACGGACCGATGATGATTCTGTAAAGGTGCTGGAACACTACGGTTTTCGTGCAGACATACTTCCTCGTTTTAGTGTCTTATACGCTTCAGTCGTATCAAGCCGATGATTGGCATCACCGTAAGGTGCAGACTACACTCCCGGTTTGACAACAACTCTCGGATAATGAGCGAGAATCTGTCGCCAGTCTACGAGAAAAGTCTGGTCAGTTCGATCCCTGGCTGAAGACACCCTCTGAATTTGAATTAAATAATGGCAGAGCGAACGTCAGGCTGAGGGAAGATTCGACCACGCGAGGTGTTGCCGTGTTTTACGAGTAATTGTTTTCGCCCTACCTGAGGCCTTTTCGGCCCGCCATGCTCTTGTCCTCTTCGCCGCTTACTGGGGTCACATTATCTTTTGTTCCGTCTTACGACTCAGTCCGCTTAATCATCCAGGGAGTTGTGTTATAA\n"
     ]
    }
   ],
   "source": [
    "from Bio import SeqIO\n",
    "from Bio.Seq import Seq\n",
    "#Save given sequences to a file\n",
    "sequences=open('/Users/danielaquijano/Documents/GitHub/Rosalind-Solutions/Given Sample Data for Exercises/10.txt','r')\n",
    "#Empty list to hold introns, append values by parsing through the file\n",
    "list_introns=[]\n",
    "\n",
    "#first entry is the entire DNA sequence exons+introns\n",
    "#replace each intron with nothing to delete them from sequence\n",
    "for entry in SeqIO.parse(sequences, 'fasta'):\n",
    "    list_introns.append(str(entry.seq))\n",
    "DNA=(list_introns[0])\n",
    "DNA=str(DNA)\n",
    "print(DNA)\n",
    "\n",
    "#for i in range(1,len(list_introns)):\n",
    "    #print(list_introns[i])"
   ]
  },
  {
   "cell_type": "code",
   "execution_count": 98,
   "id": "a41f8fce",
   "metadata": {},
   "outputs": [
    {
     "name": "stdout",
     "output_type": "stream",
     "text": [
      "MNQGEHFIRASFETATLREPFLGWCSLVSVLTVAILVTSKYPLQFTRELDRVDMYRHMYGTHYTKKKAVGVHRKPFPYRNGTDRNEFDESHSATECDRSEVTDDDSVKVLEHYLPRFSVLYASVVWHHRKVQTTLPSDNERESVASLREKSGQFDPQAEGRFDHARCCRVLRVILRRLLGSYDSVRLIIQGVVL*\n"
     ]
    }
   ],
   "source": [
    "#Sequentially delete each of the introns in the string\n",
    "#Make the string a seq object and assign to new variable\n",
    "#Use translate( ) to translate to protein\n",
    "for i in range(1,len(list_introns)):\n",
    "    DNA=DNA.replace(list_introns[i],'')\n",
    "#print(DNA)\n",
    "seq_DNA=Seq(DNA)\n",
    "translation=seq_DNA.translate()\n",
    "print(translation)\n",
    "  "
   ]
  },
  {
   "cell_type": "code",
   "execution_count": null,
   "id": "ccf824b4",
   "metadata": {},
   "outputs": [],
   "source": []
  }
 ],
 "metadata": {
  "kernelspec": {
   "display_name": "Python 3 (ipykernel)",
   "language": "python",
   "name": "python3"
  },
  "language_info": {
   "codemirror_mode": {
    "name": "ipython",
    "version": 3
   },
   "file_extension": ".py",
   "mimetype": "text/x-python",
   "name": "python",
   "nbconvert_exporter": "python",
   "pygments_lexer": "ipython3",
   "version": "3.8.8"
  }
 },
 "nbformat": 4,
 "nbformat_minor": 5
}
