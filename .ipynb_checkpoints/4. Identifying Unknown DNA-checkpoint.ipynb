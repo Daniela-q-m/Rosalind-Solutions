{
 "cells": [
  {
   "cell_type": "code",
   "execution_count": null,
   "id": "37b56ee8",
   "metadata": {},
   "outputs": [],
   "source": [
    "#Identifying Unknown DNA Quickly\n",
    "\n",
    "#Given: At most 10 DNA strings in FASTA format (of length at most 1 kbp each).\n",
    "#Return: The ID of the string having the highest GC-content, followed by the GC-content of that string. \n",
    "\n",
    "#Rosalind allows for a default error of 0.001 in all decimal answers\n",
    "\n",
    "#GOAL: To print output in the following format:\n"
   ]
  },
  {
   "cell_type": "markdown",
   "id": "ab523cd2",
   "metadata": {},
   "source": [
    "Rosalind_0808\n",
    "60.919540"
   ]
  },
  {
   "cell_type": "code",
   "execution_count": 72,
   "id": "073d0a16",
   "metadata": {},
   "outputs": [],
   "source": [
    "#Importing GC content function\n",
    "#SeqIO to parse FASTA format sample file\n",
    "from Bio.SeqUtils import GC\n",
    "from Bio import SeqIO"
   ]
  },
  {
   "cell_type": "code",
   "execution_count": 76,
   "id": "bbb839ac",
   "metadata": {},
   "outputs": [
    {
     "name": "stdout",
     "output_type": "stream",
     "text": [
      "Rosalind_6023\n",
      "51.10851808634772\n"
     ]
    }
   ],
   "source": [
    "#Opening the file \n",
    "given_fasta=open('/Users/danielaquijano/Documents/GitHub/Rosalind-Solutions/Given Sample Data for Exercises/Given_fasta.txt','r')\n",
    "\n",
    "#making a dictionary to store seq records \n",
    "#List to store gc values then extract the highest one\n",
    "gc_dict={}\n",
    "gc_list=[]\n",
    "\n",
    "#Parse given sequences, build dictionary and list\n",
    "for record in SeqIO.parse(given_fasta, 'fasta'):\n",
    "    gc_list.append(GC(record.seq))\n",
    "    gc_dict[record.id]=str(GC(record.seq))\n",
    "    \n",
    "    \n",
    "#Get max value and find corresponding key in gc_dict\n",
    "\n",
    "gc_max=max(gc_list)\n",
    "\n",
    "\n",
    "\n",
    "def get_key(val):\n",
    "    for key, value in gc_dict.items():\n",
    "         if str(val) == value:\n",
    "            return key\n",
    " \n",
    "    return \"There is no such Key\"\n",
    "\n",
    "#Call function and print the key value pair\n",
    "print(get_key(gc_max))\n",
    "print(gc_max)\n",
    "\n",
    "\n",
    "\n"
   ]
  },
  {
   "cell_type": "code",
   "execution_count": null,
   "id": "ac331ee0",
   "metadata": {},
   "outputs": [],
   "source": []
  }
 ],
 "metadata": {
  "kernelspec": {
   "display_name": "Python 3 (ipykernel)",
   "language": "python",
   "name": "python3"
  },
  "language_info": {
   "codemirror_mode": {
    "name": "ipython",
    "version": 3
   },
   "file_extension": ".py",
   "mimetype": "text/x-python",
   "name": "python",
   "nbconvert_exporter": "python",
   "pygments_lexer": "ipython3",
   "version": "3.8.8"
  }
 },
 "nbformat": 4,
 "nbformat_minor": 5
}
