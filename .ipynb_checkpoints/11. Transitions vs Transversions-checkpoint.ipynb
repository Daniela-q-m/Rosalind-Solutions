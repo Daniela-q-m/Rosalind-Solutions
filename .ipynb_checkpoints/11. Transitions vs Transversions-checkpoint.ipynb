{
 "cells": [
  {
   "cell_type": "markdown",
   "id": "9749b3c7",
   "metadata": {},
   "source": [
    "Given: Two DNA strings s1 and s2 of equal length (at most 1 kbp).\n",
    "\n",
    "Return: The transition/transversion ratio R(s1,s2)."
   ]
  },
  {
   "cell_type": "markdown",
   "id": "08d0edb0",
   "metadata": {},
   "source": [
    ">Rosalind_0209\n",
    "GCAACGCACAACGAAAACCCTTAGGGACTGGATTATTTCGTGATCGTTGTAGTTATTGGA\n",
    "AGTACGGGCATCAACCCAGTT\n",
    ">Rosalind_2200\n",
    "TTATCTGACAAAGAAAGCCGTCAACGGCTGGATAATTTCGCGATCGTGCTGGTTACTGGC\n",
    "GGTACGAGTGTTCCTTTGGGT"
   ]
  },
  {
   "cell_type": "code",
   "execution_count": null,
   "id": "a5dec41d",
   "metadata": {},
   "outputs": [],
   "source": [
    "#Transition is G->A or A->G purine to purine,or pyrimidine to pyrimidine C->T or T->C\n",
    "#Transversion is a change of A or G to T or C or viceversa (pyrimidine to purine or purine to pyrimidine)\n",
    "\n",
    "sequences=open('/Users/danielaquijano/Documents/GitHub/Rosalind-Solutions/Given Sample Data for Exercises/DNA_and_introns.txt','r')\n",
    "\n",
    "for entry in SeqIO.parse(sequences, 'fasta'):\n",
    "\n",
    "\n",
    "for i in range(0,len())"
   ]
  }
 ],
 "metadata": {
  "kernelspec": {
   "display_name": "Python 3 (ipykernel)",
   "language": "python",
   "name": "python3"
  },
  "language_info": {
   "codemirror_mode": {
    "name": "ipython",
    "version": 3
   },
   "file_extension": ".py",
   "mimetype": "text/x-python",
   "name": "python",
   "nbconvert_exporter": "python",
   "pygments_lexer": "ipython3",
   "version": "3.8.8"
  }
 },
 "nbformat": 4,
 "nbformat_minor": 5
}
