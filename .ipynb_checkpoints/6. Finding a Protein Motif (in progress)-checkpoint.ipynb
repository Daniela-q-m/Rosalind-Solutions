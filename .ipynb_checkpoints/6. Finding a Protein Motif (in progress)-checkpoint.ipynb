{
 "cells": [
  {
   "cell_type": "markdown",
   "id": "28d308dc",
   "metadata": {},
   "source": [
    "Given: At most 15 UniProt Protein Database access IDs.\n",
    "\n",
    "Return: For each protein possessing the N-glycosylation motif, output its given access ID followed by a list of locations in the protein string where the motif can be found.\n",
    "\n",
    "Sample Dataset\n",
    "A2Z669\n",
    "B5ZC00\n",
    "P07204_TRBM_HUMAN\n",
    "P20840_SAG1_YEAST\n",
    "Sample Output\n",
    "B5ZC00\n",
    "85 118 142 306 395\n",
    "P07204_TRBM_HUMAN\n",
    "47 115 116 382 409\n",
    "P20840_SAG1_YEAST\n",
    "79 109 135 248 306 348 364 402 485 501 614"
   ]
  },
  {
   "cell_type": "code",
   "execution_count": 88,
   "id": "3589bb03",
   "metadata": {},
   "outputs": [
    {
     "name": "stdout",
     "output_type": "stream",
     "text": [
      "B5ZC00\n"
     ]
    }
   ],
   "source": [
    "from bioservices.uniprot import UniProt\n",
    "from Bio import SeqIO\n",
    "given_fasta=open('/Users/danielaquijano/Documents/GitHub/Rosalind-Solutions/Given Sample Data for Exercises/6.txt','r')\n",
    "\n",
    "given_ids='B5ZC00'\n",
    "\n",
    "new_ids=given_ids.split(' ')\n",
    "\n",
    "\n",
    "for i in range (0,len(new_ids)):\n",
    "    print(new_ids[i])"
   ]
  },
  {
   "cell_type": "code",
   "execution_count": 89,
   "id": "263cd017",
   "metadata": {},
   "outputs": [],
   "source": [
    "#Glycosylation motif: N{P}[ST]{P}\n",
    "\n",
    "\n",
    "from bioservices.apps.fasta import FASTA\n",
    "import pandas as pd\n",
    "import re\n",
    "\n",
    "fasta_dict={}\n",
    "\n",
    "f = FASTA()\n",
    "for ID in new_ids:\n",
    "    f.load(ID)\n",
    "    header = f.header     \n",
    "    seq = f.sequence \n",
    "    fasta_dict[header]=seq\n",
    "   "
   ]
  },
  {
   "cell_type": "code",
   "execution_count": 105,
   "id": "0b2a3391",
   "metadata": {},
   "outputs": [
    {
     "ename": "SyntaxError",
     "evalue": "invalid syntax (3568373210.py, line 6)",
     "output_type": "error",
     "traceback": [
      "\u001b[0;36m  File \u001b[0;32m\"/var/folders/kz/671nytjx6wbb6qvvfpv7jwt00000gn/T/ipykernel_70957/3568373210.py\"\u001b[0;36m, line \u001b[0;32m6\u001b[0m\n\u001b[0;31m    for match in search:\u001b[0m\n\u001b[0m                       ^\u001b[0m\n\u001b[0;31mSyntaxError\u001b[0m\u001b[0;31m:\u001b[0m invalid syntax\n"
     ]
    }
   ],
   "source": [
    "\n",
    "#Building regular expression:\n",
    "start_list=[]\n",
    "i=0\n",
    "for header, sequence in fasta_dict.items():\n",
    "    search=re.finditer((r'(?=(N[^P][ST][^P])', sequence)\n",
    "    for match in search:\n",
    "        print(match)\n",
    "    \n",
    "        \n",
    "    \n",
    "\n"
   ]
  },
  {
   "cell_type": "code",
   "execution_count": null,
   "id": "fe1aa0b5",
   "metadata": {},
   "outputs": [],
   "source": []
  }
 ],
 "metadata": {
  "kernelspec": {
   "display_name": "Python 3 (ipykernel)",
   "language": "python",
   "name": "python3"
  },
  "language_info": {
   "codemirror_mode": {
    "name": "ipython",
    "version": 3
   },
   "file_extension": ".py",
   "mimetype": "text/x-python",
   "name": "python",
   "nbconvert_exporter": "python",
   "pygments_lexer": "ipython3",
   "version": "3.8.8"
  }
 },
 "nbformat": 4,
 "nbformat_minor": 5
}
