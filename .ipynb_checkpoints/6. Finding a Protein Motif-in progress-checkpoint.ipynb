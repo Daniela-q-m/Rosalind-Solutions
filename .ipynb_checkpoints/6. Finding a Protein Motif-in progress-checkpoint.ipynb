{
 "cells": [
  {
   "cell_type": "markdown",
   "id": "9f336da3",
   "metadata": {},
   "source": [
    "Given: At most 15 UniProt Protein Database access IDs.\n",
    "\n",
    "Return: For each protein possessing the N-glycosylation motif, output its given access ID followed by a list of locations in the protein string where the motif can be found.\n",
    "\n",
    "Sample Dataset\n",
    "A2Z669\n",
    "B5ZC00\n",
    "P07204_TRBM_HUMAN\n",
    "P20840_SAG1_YEAST\n",
    "Sample Output\n",
    "B5ZC00\n",
    "85 118 142 306 395\n",
    "P07204_TRBM_HUMAN\n",
    "47 115 116 382 409\n",
    "P20840_SAG1_YEAST\n",
    "79 109 135 248 306 348 364 402 485 501 614"
   ]
  },
  {
   "cell_type": "code",
   "execution_count": 71,
   "id": "42de6ac2",
   "metadata": {},
   "outputs": [
    {
     "name": "stdout",
     "output_type": "stream",
     "text": [
      "Q78PG9\n",
      "Q7TMB8\n",
      "P05231_IL6_HUMAN\n",
      "P01044_KNH1_BOVIN\n",
      "Q3B391\n",
      "Q181G8\n",
      "P33515\n",
      "P01374_TNFB_HUMAN\n",
      "P21809_PGS1_BOVIN\n",
      "B4R8K2\n",
      "Q1E9Q9\n",
      "Q67JS9\n",
      "P02725_GLP_PIG\n",
      "Q58CQ5\n"
     ]
    }
   ],
   "source": [
    "from bioservices.uniprot import UniProt\n",
    "from Bio import SeqIO\n",
    "given_fasta=open('/Users/danielaquijano/Documents/GitHub/Rosalind-Solutions/Given Sample Data for Exercises/Given_protein_id.txt','r')\n",
    "\n",
    "given_ids='Q78PG9 Q7TMB8 P05231_IL6_HUMAN P01044_KNH1_BOVIN Q3B391 Q181G8 P33515 P01374_TNFB_HUMAN P21809_PGS1_BOVIN B4R8K2 Q1E9Q9 Q67JS9 P02725_GLP_PIG Q58CQ5'\n",
    "\n",
    "new_ids=given_ids.split(' ')\n",
    "\n",
    "\n",
    "for i in range (0,len(new_ids)):\n",
    "    print(new_ids[i])"
   ]
  },
  {
   "cell_type": "code",
   "execution_count": 52,
   "id": "eb49d19a",
   "metadata": {},
   "outputs": [],
   "source": [
    "#Glycosylation motif: N{P}[ST]{P}\n",
    "\n",
    "\n",
    "from bioservices.apps.fasta import FASTA\n",
    "import pandas as pd\n",
    "import re\n",
    "\n",
    "fasta_dict={}\n",
    "\n",
    "f = FASTA()\n",
    "for ID in new_ids:\n",
    "    f.load(ID)\n",
    "    header = f.header     \n",
    "    seq = f.sequence \n",
    "    fasta_dict[header]=seq\n",
    "   "
   ]
  },
  {
   "cell_type": "code",
   "execution_count": 79,
   "id": "87d8ea7d",
   "metadata": {},
   "outputs": [
    {
     "ename": "AttributeError",
     "evalue": "'str' object has no attribute 'start'",
     "output_type": "error",
     "traceback": [
      "\u001b[0;31m---------------------------------------------------------------------------\u001b[0m",
      "\u001b[0;31mAttributeError\u001b[0m                            Traceback (most recent call last)",
      "\u001b[0;32m/var/folders/kz/671nytjx6wbb6qvvfpv7jwt00000gn/T/ipykernel_70957/3435649681.py\u001b[0m in \u001b[0;36m<module>\u001b[0;34m\u001b[0m\n\u001b[1;32m      5\u001b[0m     \u001b[0msearch\u001b[0m\u001b[0;34m=\u001b[0m\u001b[0mre\u001b[0m\u001b[0;34m.\u001b[0m\u001b[0mfinditer\u001b[0m\u001b[0;34m(\u001b[0m\u001b[0;34mr'[^P](S|T)[^P]'\u001b[0m\u001b[0;34m,\u001b[0m \u001b[0msequence\u001b[0m\u001b[0;34m)\u001b[0m\u001b[0;34m\u001b[0m\u001b[0;34m\u001b[0m\u001b[0m\n\u001b[1;32m      6\u001b[0m     \u001b[0;32mif\u001b[0m \u001b[0msearch\u001b[0m\u001b[0;34m:\u001b[0m\u001b[0;34m\u001b[0m\u001b[0;34m\u001b[0m\u001b[0m\n\u001b[0;32m----> 7\u001b[0;31m         \u001b[0mprint\u001b[0m\u001b[0;34m(\u001b[0m\u001b[0mmatch\u001b[0m\u001b[0;34m.\u001b[0m\u001b[0mstart\u001b[0m\u001b[0;34m(\u001b[0m\u001b[0;34m)\u001b[0m\u001b[0;34m)\u001b[0m\u001b[0;34m\u001b[0m\u001b[0;34m\u001b[0m\u001b[0m\n\u001b[0m\u001b[1;32m      8\u001b[0m \u001b[0;34m\u001b[0m\u001b[0m\n\u001b[1;32m      9\u001b[0m \u001b[0;34m\u001b[0m\u001b[0m\n",
      "\u001b[0;31mAttributeError\u001b[0m: 'str' object has no attribute 'start'"
     ]
    }
   ],
   "source": [
    "\n",
    "#Building regular expression:\n",
    "start_list=[]\n",
    "i=0\n",
    "for header, sequence in fasta_dict.items():\n",
    "    search=re.finditer(r'[^P](S|T)[^P]', sequence)\n",
    "    if search:\n",
    "        print(match.start())\n",
    "        \n",
    "      \n",
    "    \n",
    "        \n",
    "    \n",
    "\n"
   ]
  },
  {
   "cell_type": "code",
   "execution_count": null,
   "id": "b550538a",
   "metadata": {},
   "outputs": [],
   "source": []
  }
 ],
 "metadata": {
  "kernelspec": {
   "display_name": "Python 3 (ipykernel)",
   "language": "python",
   "name": "python3"
  },
  "language_info": {
   "codemirror_mode": {
    "name": "ipython",
    "version": 3
   },
   "file_extension": ".py",
   "mimetype": "text/x-python",
   "name": "python",
   "nbconvert_exporter": "python",
   "pygments_lexer": "ipython3",
   "version": "3.8.8"
  }
 },
 "nbformat": 4,
 "nbformat_minor": 5
}
