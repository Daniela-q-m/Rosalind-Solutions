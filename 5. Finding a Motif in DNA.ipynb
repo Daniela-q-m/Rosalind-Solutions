{
 "cells": [
  {
   "cell_type": "markdown",
   "id": "a52a7e73",
   "metadata": {},
   "source": [
    "The location of a substring s[j:k] is its beginning position j; note that t will have multiple locations in s if it occurs more than once as a substring of s (see the Sample below).\n",
    "\n",
    "Given: Two DNA strings s and t (each of length at most 1 kbp).\n",
    "\n",
    "Return: All locations of t as a substring of s."
   ]
  },
  {
   "cell_type": "markdown",
   "id": "86fa6e8f",
   "metadata": {},
   "source": [
    "Sample dataset:\n",
    "GATATATGCATATACTT\n",
    "ATAT\n",
    "Out:\n",
    "2 4 10"
   ]
  },
  {
   "cell_type": "code",
   "execution_count": null,
   "id": "96dcf832",
   "metadata": {},
   "outputs": [],
   "source": [
    "CGGGTTGTTTTAGTTGTTTTACAACTGGTTGTTGTTTGTTGTTTGATGCTGTTGTTTCTTCTTAGGTTGTTTCGTTGTTTGGTGTTGTTTAGCCCCGTTGTTTGCGTTGTTTGTTGTTTGTTGTTTATCGTTGTTTGTTGTTTGTTGTTTCGGTTGTTTGTTGTTTAGTTGTTTGTTGTTTAGGTTGTTTGCAAAGGTGTTGTTTGGAATTGAGGTTGTTTCAGCACGTTGTTTGGGTTGTTTCTGCGTTGTTTGAGTTGTTTCAAGGTTGTTTTATCGTGTTGTTTCGATCATGTTGTTTACACTTGTTGTTTGTTGTTTAGCGTTGTTGTTTGAAGCGTTGTTTGTTGTTTTTCGCGTTGTTTATCTGTTGTTTGTTCGTTGTTTTGAAGTTGTTTCGTTGTTTTGTTGTTTAATAGAGTTGTTTCGTTGTTTACTCCGTACAACAGTTGTTTGTTGTTTGTTGTTTCGGTTGTTTTAGTTGTTTGGCGGCTGGTTGTTTATGGTTGTTTTCTGTTGTTTGTTGTTTGTTGTTTGTTGTTTCAGTTGTTTGTTGTTTCGCGTTGTTTGTTGTTTGTTGTTTTCTGCCCTTGTTGTTTCGACCGACTAGTTGTTTTAGTTGTTTGTTGTTTTCGTTGTTTCTGTTGTTTAGTTGTTTAGTTGTTTACGTTGTTTGCACCGTTGTTTATGGTTGTTTCCTAGTTGTTTCTTCCGTTGTTTGGGAGCGTTGTTTCCACCCGTTGTTTGTTGTTTGTTGTTTAACGAGTTGTTTACGCGCGCCACAGGGTTGTTTACATGGTTGTTTGAGTTGTTTGGTTGTTTCCGTGTTGTTTTAGGTTGTTTGAGTTGTTTTGGTTGTTTCACGTTGTTTTGTTGTTTCGTTGTTTGTTGTTTGCGTGTTGTTTTAGTTGTTTGGGGTTGTTT\n",
    "GTTGTTTGT\n"
   ]
  },
  {
   "cell_type": "code",
   "execution_count": 19,
   "id": "3cb4e06e",
   "metadata": {},
   "outputs": [
    {
     "name": "stdout",
     "output_type": "stream",
     "text": [
      "[283 325 359 366 497 533 563 570 646 709 716 745 762 802 809]\n"
     ]
    }
   ],
   "source": [
    "import re\n",
    "\n",
    "#Import regular expressions module and use lookahead (?=ATAT) to cappture overlapping matches\n",
    "#Make an empty list to hold all the start indices for matches\n",
    "\n",
    "sequence='CAGGCACACAGGCACACAGGCACACCAGGCACGCTACGCAGGCACGCAGGCACGCAGGCACACAGGCACGGTCAGGCACTACCCCAGGCACTCAGGCACATGCAGGCACGAATGGATCAGGCACTCAGGCACAGCAGGCACCCACAGGCACACCCAGGCACGGCCACAGGCACGCAGGCACGCAACCGGCCAGGCACAGCAGGCACTTAGGCACAGGCACCGCCAGGCACGATTACGCAGGCACGCAGGCACTCAGGCACTCCGGCTCATGAGTCAGGCACTCAGGCACCAGGCACTCAGGCACACCTTACAGGACAGGCACCTCAGGCACCAGGCACAGTCCAGGCACACAGGCACACAGGCACCAGGCACCAGGCACATCAGGCACAACCAGGCACTATCGGCATAGATTTCATAGGCGCTCAGGCACAACTCAGGCACCCCGCAGGCACTGCGACAGGCACCCTGGGGGCCAGGCACCCAGGCACCGCCATCTCAGGCACCAGGCACTGACCAGGCACGCAGGCACAAACAGGCACCACCGAGTACAGGCACCTCCAAGCAGGCACCAGGCACCAGGCACAGGCAGGCACGCAGGCACGGCAGGCACACTCAGGCACACGGCAGGCACCTACTACAGGCACGCAGGCACCAGGCACTTCTAGAATCAGGCACCCAGGCACGTCAGGCACAGGTTACAGGCACGTCCAGGCACCAGGCACCAGGCACCCTTCAGGCACATTGCAGGCACCAGGCACAGGCAGGCACCAGGCACACCACAGGCACTACCGACAGGCACGTCAGGCACCAGGCACCAGGCACGTATTCAGGCACATGCCTAAACAGGCACTGGCCAGGCACTGTCAGGCACCTGAGCAGGCACTCAGGCAC'\n",
    "pattern='CAGGCACCA'\n",
    "start_list=[]\n",
    "search=re.finditer(r'(?=CAGGCACCA)', sequence)\n",
    "\n",
    "for match in search:\n",
    "    start = match.start()\n",
    "    fix_start=match.start()+1\n",
    "    start_list.append(fix_start)\n",
    "\n",
    "#Change type of start match list to a string, then delete the commas for correct formatting\n",
    "new_start_list=str(start_list)\n",
    "formatted_list=new_start_list.replace(',','')\n",
    "print(formatted_list)\n"
   ]
  },
  {
   "cell_type": "code",
   "execution_count": null,
   "id": "3068d3c8",
   "metadata": {},
   "outputs": [],
   "source": []
  }
 ],
 "metadata": {
  "kernelspec": {
   "display_name": "Python 3 (ipykernel)",
   "language": "python",
   "name": "python3"
  },
  "language_info": {
   "codemirror_mode": {
    "name": "ipython",
    "version": 3
   },
   "file_extension": ".py",
   "mimetype": "text/x-python",
   "name": "python",
   "nbconvert_exporter": "python",
   "pygments_lexer": "ipython3",
   "version": "3.8.8"
  }
 },
 "nbformat": 4,
 "nbformat_minor": 5
}
